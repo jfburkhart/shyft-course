{
 "cells": [
  {
   "cell_type": "markdown",
   "metadata": {
    "collapsed": true
   },
   "source": [
    "Running a simulation with SHyFT\n",
    "=========\n",
    "\n",
    "### This notebook is guiding through the simulation process of a catchment. The following steps are described in detail:\n",
    "1. **Configuration of a SHyFT simulation run**\n",
    "2. **Running a SHyFT simulation**\n",
    "3. **Post-processing:** Fetching simulation results from the simulator-object."
   ]
  },
  {
   "cell_type": "markdown",
   "metadata": {},
   "source": [
    "<i>© Felix Matt, University of Oslo</i>"
   ]
  },
  {
   "cell_type": "code",
   "execution_count": 177,
   "metadata": {
    "collapsed": false
   },
   "outputs": [
    {
     "name": "stdout",
     "output_type": "stream",
     "text": [
      "Populating the interactive namespace from numpy and matplotlib\n"
     ]
    }
   ],
   "source": [
    "# python modules we use\n",
    "%pylab inline\n",
    "import os\n",
    "import sys\n",
    "from matplotlib import pyplot as plt"
   ]
  },
  {
   "cell_type": "code",
   "execution_count": 178,
   "metadata": {
    "collapsed": true
   },
   "outputs": [],
   "source": [
    "# setting up the environment\n",
    "shyft_path = os.path.abspath(os.path.realpath('../hycamp/software/shyft_course_2/shyft'))\n",
    "sys.path.append(shyft_path)"
   ]
  },
  {
   "cell_type": "code",
   "execution_count": 179,
   "metadata": {
    "collapsed": true
   },
   "outputs": [],
   "source": [
    "from os import path\n",
    "import unittest"
   ]
  },
  {
   "cell_type": "code",
   "execution_count": 180,
   "metadata": {
    "collapsed": false
   },
   "outputs": [],
   "source": [
    "from shyft import shyftdata_dir\n",
    "from shyft.repository.default_state_repository import DefaultStateRepository\n",
    "from shyft.orchestration.configuration import yaml_configs\n",
    "from shyft.orchestration.simulators.config_simulator import ConfigSimulator"
   ]
  },
  {
   "cell_type": "code",
   "execution_count": 181,
   "metadata": {
    "collapsed": true
   },
   "outputs": [],
   "source": [
    "# Set up configuration\n",
    "config_dir = \"/geo/nunatak/hycamp/software/shyft_course_2/shyft/shyft/tests/netcdf\"\n",
    "cfg = yaml_configs.YAMLConfig(\"neanidelva_simulation.yaml\", \"neanidelva\",config_dir=config_dir, data_dir=shyftdata_dir)"
   ]
  },
  {
   "cell_type": "code",
   "execution_count": 182,
   "metadata": {
    "collapsed": false
   },
   "outputs": [],
   "source": [
    "# get a simulator\n",
    "simulator = ConfigSimulator(cfg)\n",
    "n_cells = simulator.region_model.size()\n",
    "state_repos = DefaultStateRepository(cfg.model_t, n_cells)"
   ]
  },
  {
   "cell_type": "code",
   "execution_count": 183,
   "metadata": {
    "collapsed": false
   },
   "outputs": [
    {
     "name": "stdout",
     "output_type": "stream",
     "text": [
      "time\n",
      "series_name\n",
      "x\n",
      "y\n",
      "z\n",
      "crs\n",
      "precipitation\n",
      "time\n",
      "series_name\n",
      "x\n",
      "y\n",
      "z\n",
      "crs\n",
      "temperature\n",
      "time\n",
      "series_name\n",
      "x\n",
      "y\n",
      "z\n",
      "crs\n",
      "wind_speed\n",
      "time\n",
      "series_name\n",
      "x\n",
      "y\n",
      "z\n",
      "crs\n",
      "relative_humidity\n",
      "time\n",
      "series_name\n",
      "x\n",
      "y\n",
      "z\n",
      "crs\n",
      "global_radiation\n"
     ]
    }
   ],
   "source": [
    "# run the simulation\n",
    "simulator.run(cfg.time_axis, state_repos.get_state(0))\n"
   ]
  },
  {
   "cell_type": "code",
   "execution_count": null,
   "metadata": {
    "collapsed": false
   },
   "outputs": [],
   "source": []
  },
  {
   "cell_type": "code",
   "execution_count": 184,
   "metadata": {
    "collapsed": false
   },
   "outputs": [],
   "source": [
    "# Get the discharge for each catchment\n",
    "discharge_ts = []\n",
    "for catch in range(len(simulator.region_model.catchment_id_map)):\n",
    "    dis = simulator.region_model.statistics.discharge(api.IntVector(catch))\n",
    "    ts=[dis.value(t) for t in range(dis.size())]\n",
    "    discharge_ts.append(ts)"
   ]
  },
  {
   "cell_type": "code",
   "execution_count": 185,
   "metadata": {
    "collapsed": false
   },
   "outputs": [
    {
     "data": {
      "text/plain": [
       "<matplotlib.legend.Legend at 0x7fa659437750>"
      ]
     },
     "execution_count": 185,
     "metadata": {},
     "output_type": "execute_result"
    },
    {
     "data": {
      "image/png": "[encoded data removed]",
      "text/plain": [
       "<matplotlib.figure.Figure at 0x7fa659627450>"
      ]
     },
     "metadata": {},
     "output_type": "display_data"
    }
   ],
   "source": [
    "fig, ax = plt.subplots()\n",
    "for i,vals in enumerate(discharge_ts):\n",
    "    ax.plot(vals, label = str(i))\n",
    "ax.legend()"
   ]
  },
  {
   "cell_type": "code",
   "execution_count": null,
   "metadata": {
    "collapsed": true
   },
   "outputs": [],
   "source": []
  }
 ],
 "metadata": {
  "kernelspec": {
   "display_name": "Python 3",
   "language": "python",
   "name": "python3"
  },
  "language_info": {
   "codemirror_mode": {
    "name": "ipython",
    "version": 3
   },
   "file_extension": ".py",
   "mimetype": "text/x-python",
   "name": "python",
   "nbconvert_exporter": "python",
   "pygments_lexer": "ipython3",
   "version": "3.3.5"
  }
 },
 "nbformat": 4,
 "nbformat_minor": 0
}
